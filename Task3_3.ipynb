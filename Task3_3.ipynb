{
 "cells": [
  {
   "cell_type": "code",
   "execution_count": 5,
   "id": "5cef972c",
   "metadata": {},
   "outputs": [],
   "source": [
    "from pyspark.sql import SparkSession\n",
    "\n",
    "spark = SparkSession.builder\\\n",
    "        .master(\"local\")\\\n",
    "        .config(\"spark.driver.bindAddress\",\"localhost\")\\\n",
    "        .config(\"spark.ui.port\",\"4040\")\\\n",
    "        .appName(\"Task3.3\")\\\n",
    "        .getOrCreate()"
   ]
  },
  {
   "cell_type": "code",
   "execution_count": 75,
   "id": "371451fb",
   "metadata": {},
   "outputs": [],
   "source": [
    "from pyspark.sql.functions import col,lit,from_unixtime,hour,floor"
   ]
  },
  {
   "cell_type": "code",
   "execution_count": 79,
   "id": "f770a37e",
   "metadata": {},
   "outputs": [
    {
     "name": "stdout",
     "output_type": "stream",
     "text": [
      "root\n",
      " |-- id: integer (nullable = true)\n",
      " |-- timestamp: long (nullable = true)\n",
      " |-- type: string (nullable = true)\n",
      " |-- page_id: integer (nullable = true)\n",
      " |-- tag: string (nullable = true)\n",
      " |-- sign: boolean (nullable = true)\n",
      "\n",
      "+---+----------+------+-------+-----+-----+\n",
      "|id |timestamp |type  |page_id|tag  |sign |\n",
      "+---+----------+------+-------+-----+-----+\n",
      "|1  |1670641486|visit |101    |Sport|true |\n",
      "|1  |1670645086|click |101    |Sport|true |\n",
      "|1  |1670645486|click |105    |News |true |\n",
      "|1  |1670646086|scroll|105    |News |true |\n",
      "|1  |1670747886|move  |122    |Sport|true |\n",
      "|2  |1670741486|visit |101    |Games|true |\n",
      "|2  |1670745086|click |101    |Games|true |\n",
      "|2  |1670745486|click |105    |Games|true |\n",
      "|2  |1670746086|scroll|105    |Games|true |\n",
      "|3  |1670747886|move  |122    |Sport|true |\n",
      "|3  |1670741486|visit |101    |Games|true |\n",
      "|3  |1670745086|click |101    |Sport|true |\n",
      "|3  |1670745486|click |105    |News |true |\n",
      "|3  |1670746086|scroll|105    |News |true |\n",
      "|4  |1670747886|move  |122    |Games|false|\n",
      "|4  |1670741486|visit |101    |Games|false|\n",
      "|5  |1670745086|click |101    |Sport|false|\n",
      "|5  |1670745486|click |105    |News |false|\n",
      "|5  |1670746086|scroll|105    |News |false|\n",
      "|5  |1670747886|move  |122    |Sport|false|\n",
      "+---+----------+------+-------+-----+-----+\n",
      "only showing top 20 rows\n",
      "\n"
     ]
    }
   ],
   "source": [
    "from pyspark.sql.types import StructType,StructField, StringType, IntegerType, LongType, BooleanType\n",
    "\n",
    "data_web = [\n",
    "    (1, 1670641486, \"visit\", 101, \"Sport\", True),\n",
    "    (1, 1670645086,\"click\", 101, \"Sport\", True),\n",
    "    (1, 1670645486,\"click\", 105, \"News\", True),\n",
    "    (1, 1670646086,\"scroll\", 105, \"News\", True),\n",
    "    (1, 1670747886,\"move\", 122, \"Sport\", True),\n",
    "    (2, 1670741486, \"visit\", 101, \"Games\", True),\n",
    "    (2, 1670745086,\"click\", 101, \"Games\", True),\n",
    "    (2, 1670745486,\"click\", 105, \"Games\", True),\n",
    "    (2, 1670746086,\"scroll\", 105, \"Games\", True),\n",
    "    (3, 1670747886,\"move\", 122, \"Sport\", True),\n",
    "    (3, 1670741486, \"visit\", 101, \"Games\", True),\n",
    "    (3, 1670745086,\"click\", 101, \"Sport\", True),\n",
    "    (3, 1670745486,\"click\", 105, \"News\", True),\n",
    "    (3, 1670746086,\"scroll\", 105, \"News\", True),\n",
    "    (4, 1670747886,\"move\", 122, \"Games\", False),\n",
    "    (4, 1670741486, \"visit\", 101, \"Games\", False),\n",
    "    (5, 1670745086,\"click\", 101, \"Sport\", False),\n",
    "    (5, 1670745486,\"click\", 105, \"News\", False),\n",
    "    (5, 1670746086,\"scroll\", 105, \"News\", False),\n",
    "    (5, 1670747886,\"move\", 122, \"Sport\", False),\n",
    "    (6, 1670777886,\"click\", 122, \"Sport\", False),\n",
    "  ]\n",
    "\n",
    "schema_web = StructType([ \\\n",
    "    StructField(\"id\", IntegerType(), True), \\\n",
    "    StructField(\"timestamp\", LongType(), True), \\\n",
    "    StructField(\"type\",StringType(),True), \\\n",
    "    StructField(\"page_id\", IntegerType(), True), \\\n",
    "    StructField(\"tag\", StringType(), True), \\\n",
    "    StructField(\"sign\", BooleanType(), True) \\\n",
    "  ])\n",
    " \n",
    "df_web = spark.createDataFrame(data=data_web,schema=schema_web)\n",
    "df_web.printSchema()\n",
    "df_web.show(truncate=False)"
   ]
  },
  {
   "cell_type": "code",
   "execution_count": 80,
   "id": "e86cd406",
   "metadata": {},
   "outputs": [
    {
     "name": "stdout",
     "output_type": "stream",
     "text": [
      "+---+-----+\n",
      "| id|count|\n",
      "+---+-----+\n",
      "|  1|    5|\n",
      "|  3|    5|\n",
      "|  2|    4|\n",
      "|  5|    4|\n",
      "|  4|    2|\n",
      "+---+-----+\n",
      "only showing top 5 rows\n",
      "\n"
     ]
    },
    {
     "name": "stderr",
     "output_type": "stream",
     "text": [
      "                                                                                \r"
     ]
    }
   ],
   "source": [
    "df_web.groupby(\"id\").count().orderBy(col(\"count\").desc()).show(5)"
   ]
  },
  {
   "cell_type": "code",
   "execution_count": 81,
   "id": "81c088e5",
   "metadata": {},
   "outputs": [
    {
     "name": "stdout",
     "output_type": "stream",
     "text": [
      "+---+-----------------+\n",
      "|max|             proc|\n",
      "+---+-----------------+\n",
      "| 14|66.66666666666667|\n",
      "+---+-----------------+\n",
      "\n"
     ]
    },
    {
     "name": "stderr",
     "output_type": "stream",
     "text": [
      "                                                                                \r"
     ]
    }
   ],
   "source": [
    "df_web.groupby(\"sign\").count().select(max(\"count\").alias(\"max\")).withColumn(\"proc\", col(\"max\")*100/df_web.count()).show()"
   ]
  },
  {
   "cell_type": "code",
   "execution_count": 82,
   "id": "880e58a8",
   "metadata": {},
   "outputs": [
    {
     "name": "stdout",
     "output_type": "stream",
     "text": [
      "+-------+-----+\n",
      "|page_id|count|\n",
      "+-------+-----+\n",
      "|    101|    4|\n",
      "|    105|    4|\n",
      "|    122|    1|\n",
      "+-------+-----+\n",
      "\n"
     ]
    },
    {
     "name": "stderr",
     "output_type": "stream",
     "text": [
      "                                                                                \r"
     ]
    }
   ],
   "source": [
    "df_web.select(col(\"page_id\"), col(\"type\")).filter(col(\"type\") == \"click\").groupby(col(\"page_id\")).count().orderBy(col(\"count\").alias(\"click_count\").desc()).show(5)"
   ]
  },
  {
   "cell_type": "code",
   "execution_count": 101,
   "id": "780c3893",
   "metadata": {},
   "outputs": [
    {
     "name": "stdout",
     "output_type": "stream",
     "text": [
      "+----------+-----+\n",
      "|time_range|count|\n",
      "+----------+-----+\n",
      "|         1|   16|\n",
      "+----------+-----+\n",
      "only showing top 1 row\n",
      "\n"
     ]
    },
    {
     "name": "stderr",
     "output_type": "stream",
     "text": [
      "                                                                                \r"
     ]
    }
   ],
   "source": [
    "h = hour(from_unixtime(\"timestamp\"))\n",
    "df_web.withColumn(\"time_range\", floor(h/lit(6))).groupby(\"time_range\").count().orderBy(col(\"count\").desc()).show(1)"
   ]
  },
  {
   "cell_type": "code",
   "execution_count": 102,
   "id": "361ec78a",
   "metadata": {},
   "outputs": [
    {
     "name": "stdout",
     "output_type": "stream",
     "text": [
      "root\n",
      " |-- id: integer (nullable = true)\n",
      " |-- user_id: integer (nullable = true)\n",
      " |-- full_name: string (nullable = true)\n",
      " |-- dob: long (nullable = true)\n",
      " |-- domlk: long (nullable = true)\n",
      "\n",
      "+---+-------+---------------+----------+----------+\n",
      "|id |user_id|full_name      |dob       |domlk     |\n",
      "+---+-------+---------------+----------+----------+\n",
      "|10 |1      |James Smith    |976559268 |1586716068|\n",
      "|20 |2      |Michael Rose   |1031160468|1636482468|\n",
      "|30 |3      |Robert Williams|931800468 |1643135268|\n",
      "+---+-------+---------------+----------+----------+\n",
      "\n"
     ]
    }
   ],
   "source": [
    "data_lk = [\n",
    "    (10, 1, \"James Smith\", 976559268, 1586716068),\n",
    "    (20, 2, \"Michael Rose\", 1031160468, 1636482468),\n",
    "    (30, 3,\"Robert Williams\", 931800468, 1643135268)\n",
    "  ]\n",
    "\n",
    "schema_lk = StructType([ \\\n",
    "    StructField(\"id\", IntegerType(), True), \\\n",
    "    StructField(\"user_id\", IntegerType(), True), \\\n",
    "    StructField(\"full_name\",StringType(),True), \\\n",
    "    StructField(\"dob\", LongType(), True), \\\n",
    "    StructField(\"domlk\", LongType(), True) \\\n",
    "  ])\n",
    " \n",
    "df_lk = spark.createDataFrame(data=data_lk,schema=schema_lk)\n",
    "df_lk.printSchema()\n",
    "df_lk.show(truncate=False)"
   ]
  },
  {
   "cell_type": "code",
   "execution_count": 118,
   "id": "8297d99e",
   "metadata": {},
   "outputs": [
    {
     "name": "stdout",
     "output_type": "stream",
     "text": [
      "+-----+---------------+\n",
      "|  tag|      full_name|\n",
      "+-----+---------------+\n",
      "|Sport|    James Smith|\n",
      "|Sport|    James Smith|\n",
      "|Sport|    James Smith|\n",
      "|Sport|Robert Williams|\n",
      "|Sport|Robert Williams|\n",
      "+-----+---------------+\n",
      "\n"
     ]
    }
   ],
   "source": [
    "df_web.select(\"id\", \"tag\").filter(col(\"tag\") == \"Sport\").join(df_lk, df_web.id == df_lk.user_id).select(\"tag\", \"full_name\").show()"
   ]
  },
  {
   "cell_type": "code",
   "execution_count": null,
   "id": "6ca9442a",
   "metadata": {},
   "outputs": [],
   "source": []
  }
 ],
 "metadata": {
  "kernelspec": {
   "display_name": "Python 3 (ipykernel)",
   "language": "python",
   "name": "python3"
  },
  "language_info": {
   "codemirror_mode": {
    "name": "ipython",
    "version": 3
   },
   "file_extension": ".py",
   "mimetype": "text/x-python",
   "name": "python",
   "nbconvert_exporter": "python",
   "pygments_lexer": "ipython3",
   "version": "3.9.2"
  }
 },
 "nbformat": 4,
 "nbformat_minor": 5
}
